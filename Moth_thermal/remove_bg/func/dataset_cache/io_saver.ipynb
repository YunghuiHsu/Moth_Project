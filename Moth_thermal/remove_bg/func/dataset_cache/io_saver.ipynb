{
 "cells": [
  {
   "cell_type": "code",
   "execution_count": 2,
   "id": "cheap-imagination",
   "metadata": {},
   "outputs": [],
   "source": [
    "import os\n",
    "import numpy as np\n",
    "import skimage.io as io"
   ]
  },
  {
   "cell_type": "code",
   "execution_count": 3,
   "id": "fabulous-grade",
   "metadata": {},
   "outputs": [],
   "source": [
    "img_files = [f for f in os.listdir('wolrdwide_lepidoptera_yolov4_cropped_and_padded_20210407') if f.lower().endswith('.jpg')]"
   ]
  },
  {
   "cell_type": "code",
   "execution_count": 4,
   "id": "senior-restaurant",
   "metadata": {},
   "outputs": [
    {
     "data": {
      "text/plain": [
       "32262"
      ]
     },
     "execution_count": 4,
     "metadata": {},
     "output_type": "execute_result"
    }
   ],
   "source": [
    "len(img_files)"
   ]
  },
  {
   "cell_type": "code",
   "execution_count": 5,
   "id": "instant-venezuela",
   "metadata": {},
   "outputs": [],
   "source": [
    "preloads = [io.imread('wolrdwide_lepidoptera_yolov4_cropped_and_padded_20210407/' + img_file) for img_file in img_files]"
   ]
  },
  {
   "cell_type": "code",
   "execution_count": 6,
   "id": "continuous-advertiser",
   "metadata": {},
   "outputs": [],
   "source": [
    "preloads_npy = np.array(preloads)"
   ]
  },
  {
   "cell_type": "code",
   "execution_count": 7,
   "id": "typical-member",
   "metadata": {},
   "outputs": [
    {
     "data": {
      "text/plain": [
       "(32262, 256, 256, 3)"
      ]
     },
     "execution_count": 7,
     "metadata": {},
     "output_type": "execute_result"
    }
   ],
   "source": [
    "preloads_npy.shape"
   ]
  },
  {
   "cell_type": "code",
   "execution_count": 8,
   "id": "disabled-squad",
   "metadata": {},
   "outputs": [],
   "source": [
    "preloads_npy.dump('wolrdwide_lepidoptera_yolov4_cropped_and_padded.npy', protocol=4)"
   ]
  },
  {
   "cell_type": "code",
   "execution_count": 9,
   "id": "overall-evans",
   "metadata": {},
   "outputs": [],
   "source": [
    "image_cache = np.load('wolrdwide_lepidoptera_yolov4_cropped_and_padded.npy', allow_pickle=True)"
   ]
  },
  {
   "cell_type": "code",
   "execution_count": 10,
   "id": "entitled-individual",
   "metadata": {},
   "outputs": [
    {
     "data": {
      "text/plain": [
       "(32262, 256, 256, 3)"
      ]
     },
     "execution_count": 10,
     "metadata": {},
     "output_type": "execute_result"
    }
   ],
   "source": [
    "image_cache.shape"
   ]
  },
  {
   "cell_type": "code",
   "execution_count": 11,
   "id": "portable-brand",
   "metadata": {},
   "outputs": [
    {
     "ename": "NameError",
     "evalue": "name 'augseq_all' is not defined",
     "output_type": "error",
     "traceback": [
      "\u001b[0;31m---------------------------------------------------------------------------\u001b[0m",
      "\u001b[0;31mNameError\u001b[0m                                 Traceback (most recent call last)",
      "\u001b[0;32m<ipython-input-11-cefb65ea0eec>\u001b[0m in \u001b[0;36m<module>\u001b[0;34m\u001b[0m\n\u001b[1;32m      1\u001b[0m \u001b[0mimg_\u001b[0m \u001b[0;34m=\u001b[0m \u001b[0mimage_cache\u001b[0m\u001b[0;34m[\u001b[0m\u001b[0;36m5\u001b[0m\u001b[0;34m]\u001b[0m\u001b[0;34m\u001b[0m\u001b[0;34m\u001b[0m\u001b[0m\n\u001b[0;32m----> 2\u001b[0;31m \u001b[0mdenoised_img\u001b[0m \u001b[0;34m=\u001b[0m \u001b[0maugseq_all\u001b[0m\u001b[0;34m.\u001b[0m\u001b[0maugment_image\u001b[0m\u001b[0;34m(\u001b[0m\u001b[0mimg_\u001b[0m\u001b[0;34m)\u001b[0m\u001b[0;34m\u001b[0m\u001b[0;34m\u001b[0m\u001b[0m\n\u001b[0m\u001b[1;32m      3\u001b[0m \u001b[0mimg\u001b[0m \u001b[0;34m=\u001b[0m \u001b[0mrotation_ratio\u001b[0m\u001b[0;34m(\u001b[0m\u001b[0;34m)\u001b[0m\u001b[0;34m.\u001b[0m\u001b[0maugment_image\u001b[0m\u001b[0;34m(\u001b[0m\u001b[0mdenoised_img\u001b[0m\u001b[0;34m)\u001b[0m\u001b[0;34m\u001b[0m\u001b[0;34m\u001b[0m\u001b[0m\n",
      "\u001b[0;31mNameError\u001b[0m: name 'augseq_all' is not defined"
     ]
    }
   ],
   "source": [
    "img_ = image_cache[5]\n",
    "denoised_img = augseq_all.augment_image(img_)\n",
    "img = rotation_ratio().augment_image(denoised_img)"
   ]
  },
  {
   "cell_type": "code",
   "execution_count": 8,
   "id": "piano-desktop",
   "metadata": {},
   "outputs": [],
   "source": [
    "input_transform = transforms.Compose([ \n",
    "                           transforms.ToTensor()                                                                      \n",
    "                       ])\n"
   ]
  },
  {
   "cell_type": "code",
   "execution_count": 9,
   "id": "medieval-defense",
   "metadata": {},
   "outputs": [],
   "source": [
    "img = input_transform(img)"
   ]
  },
  {
   "cell_type": "code",
   "execution_count": 11,
   "id": "headed-start",
   "metadata": {},
   "outputs": [
    {
     "data": {
      "text/plain": [
       "torch.Size([3, 256, 256])"
      ]
     },
     "execution_count": 11,
     "metadata": {},
     "output_type": "execute_result"
    }
   ],
   "source": [
    "img.size()"
   ]
  },
  {
   "cell_type": "code",
   "execution_count": null,
   "id": "invisible-scene",
   "metadata": {},
   "outputs": [],
   "source": []
  }
 ],
 "metadata": {
  "kernelspec": {
   "display_name": "Python 3",
   "language": "python",
   "name": "python3"
  },
  "language_info": {
   "codemirror_mode": {
    "name": "ipython",
    "version": 3
   },
   "file_extension": ".py",
   "mimetype": "text/x-python",
   "name": "python",
   "nbconvert_exporter": "python",
   "pygments_lexer": "ipython3",
   "version": "3.7.9"
  }
 },
 "nbformat": 4,
 "nbformat_minor": 5
}
