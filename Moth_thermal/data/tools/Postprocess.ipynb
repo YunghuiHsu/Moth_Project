{
 "cells": [
  {
   "cell_type": "code",
   "execution_count": 1,
   "source": [
    "import cv2\r\n",
    "from PIL import Image\r\n",
    "import os\r\n",
    "import sys\r\n",
    "import glob\r\n",
    "from pathlib import Path\r\n",
    "import numpy as np\r\n",
    "import pandas as pd\r\n",
    "from skimage import io\r\n",
    "from skimage.transform import resize\r\n",
    "import matplotlib.pyplot as plt\r\n",
    "\r\n",
    "from func.postprocessing import find_cntr_condition, crf, find_cntr\r\n",
    "from func.tool import get_fname\r\n",
    "from func.plot import plt_result\r\n",
    "os.environ[\"CUDA_VISIBLE_DEVICES\"] = '1'"
   ],
   "outputs": [],
   "metadata": {}
  },
  {
   "cell_type": "markdown",
   "source": [
    "# (1) sup+cntr (2)+crf (3) +cntr "
   ],
   "metadata": {}
  },
  {
   "cell_type": "code",
   "execution_count": 2,
   "source": [
    "# FLICKR = 'data/ori/tesri/'\r\n",
    "# UnsupCV2DIR = 'model/Unsup_rmbg/result_sample/predict_img_postprocessd/'\r\n",
    "# MASKDIR = 'model/Unet_rmbg/181128103535/Predict_mask/'\r\n",
    "# SAVEDIR = 'data/processed/finaluse/'\r\n",
    "# masks = os.listdir(MASKDIR)\r\n",
    "# mask_path = [os.path.join(MASKDIR, i) for i in masks]"
   ],
   "outputs": [],
   "metadata": {}
  },
  {
   "cell_type": "code",
   "execution_count": 5,
   "source": [
    "# --------------------------------------------------------------------------------------\r\n",
    "# MASKDIR放置要做為mask的底。 \r\n",
    "# 採用sup_train產出來的結果，再經過find_cntr_condition, crf, find_cntr等方法做微調優化\r\n",
    "# 當sup_train模型還不能使用時，需要先用unsup_train以及手動去背的結果來使用\r\n",
    "# --------------------------------------------------------------------------------------\r\n",
    "\r\n",
    "ORIGIN = Path('../crop/origin/')\r\n",
    "# UnsupCV2DIR = Path('model/Unsup_rmbg/result_sample/predict_img_postprocessd/')\r\n",
    "# MASKDIR = 'data/bk_mask_convert/'\r\n",
    "# SAVEDIR = f'data/processed/finaluse/'\r\n",
    "MASKDIR = Path('data/label_waiting_postprocess/rgb_selected/rgb_fill/convert')      \r\n",
    "SAVEDIR = Path(f'{MASKDIR}/processed')\r\n",
    "mask_path = MASKDIR.rglob('*_mask.png')\r\n",
    "print(len(list(MASKDIR.rglob('*_mask.png'))))\r\n",
    "# mask_path = [os.path.join(MASKDIR, i) for i in masks if os.path.splitext(i)[-1].lower() in ['.jpg', '.png', '.jpeg']]\r\n",
    "\r\n",
    "# origin_path = [os.path.join(ORIGIN, get_fname(i) + '.jpg') for i in masks]\r\n",
    "origin_path = [ORIGIN.joinpath(path.stem.replace('_mask', '') + '.png') for path in MASKDIR.rglob('*_mask.png')]\r\n",
    "# new_path = [os.path.join(MASKDIR, i) for i in masks]\r\n",
    "\r\n",
    "print(len(origin_path))"
   ],
   "outputs": [
    {
     "output_type": "stream",
     "name": "stdout",
     "text": [
      "2\n",
      "2\n"
     ]
    }
   ],
   "metadata": {}
  },
  {
   "cell_type": "code",
   "execution_count": 6,
   "source": [
    "for i, path in  enumerate(mask_path):\r\n",
    "    # for i in range(1):\r\n",
    "    # get path\r\n",
    "    img_path = origin_path[i]\r\n",
    "    fname = img_path.stem\r\n",
    "    msk_path = path\r\n",
    "    print(i, fname)\r\n",
    "\r\n",
    "    # prepare data to [0,255], channel=3\r\n",
    "    origin_img = io.imread(img_path)\r\n",
    "    origin_img = resize(origin_img, (256, 256))\r\n",
    "    origin_img_255 = (origin_img)*255\r\n",
    "    origin_img_255 = origin_img_255.astype(np.uint8)\r\n",
    "\r\n",
    "    mask = io.imread(msk_path, as_gray=True)\r\n",
    "\r\n",
    "    if mask.shape is not (256, 256):\r\n",
    "        mask = resize(mask, (256, 256))\r\n",
    "    if not mask.max() > 1:\r\n",
    "        mask = mask*255\r\n",
    "    mask = mask.astype(np.uint8)\r\n",
    "    mask3 = np.stack((mask, mask, mask), axis=2)\r\n",
    "\r\n",
    "    # unsup2sup\r\n",
    "    unsup2sup_mask = find_cntr_condition(mask3, condition=62000)\r\n",
    "    bk_unsup2sup_img = ((unsup2sup_mask/255)*origin_img_255).astype(np.uint8)\r\n",
    "    unsup2sup_img = ((unsup2sup_mask/255)*origin_img_255 +\r\n",
    "                    255 - unsup2sup_mask).astype(np.uint8)\r\n",
    "\r\n",
    "    # crf, return only 'R' channel\r\n",
    "    crf_output = crf(origin_img_255, mask3)\r\n",
    "    crf_mask = crf_output[:, :, 0] + mask3[:, :, 0]\r\n",
    "    crf_mask = np.repeat(crf_mask, repeats=3).reshape((256, 256, 3))\r\n",
    "    # bk_crf_img = ((crf_mask/255)*origin_img_255).astype(np.uint8)\r\n",
    "    # crf_img = ((crf_mask/255)*origin_img_255 + \r\n",
    "    #             255 - crf_mask).astype(np.uint8)\r\n",
    "\r\n",
    "    # find contour, return mask [h,w,3]\r\n",
    "#     cntr_mask = find_cntr(crf_mask)\r\n",
    "    cntr_mask = find_cntr_condition(crf_mask, condition=62000)\r\n",
    "    cntr_mask_01 = cntr_mask/255\r\n",
    "    bk_cntr_img = origin_img*cntr_mask_01\r\n",
    "    cntr_img = ((cntr_mask/255)*origin_img_255 +\r\n",
    "                255 - cntr_mask).astype(np.uint8)\r\n",
    "\r\n",
    "#     # show unsup+cv2 result\r\n",
    "#     unsupcv2_img = io.imread(os.path.join(UnsupCV2DIR, fname+'.png'))\r\n",
    "\r\n",
    "    # save out\r\n",
    "    p_img = [origin_img,\r\n",
    "             #               unsupcv2_img,\r\n",
    "             unsup2sup_img,\r\n",
    "            #  crf_img,\r\n",
    "             cntr_img]\r\n",
    "    p_title = ['Original',\r\n",
    "               #               'unsup',\r\n",
    "               'unsup2sup',\r\n",
    "            #    'crf',\r\n",
    "               'crf_cv2']\r\n",
    "\r\n",
    "    fig = plt_result(p_img, p_title)\r\n",
    "\r\n",
    "    save_to = os.path.join('data/processed/finalstep/', 'checking')\r\n",
    "    if not os.path.exists(save_to):\r\n",
    "        os.makedirs(save_to)\r\n",
    "    fig.savefig(os.path.join(save_to, fname+'.png'),\r\n",
    "                dpi=100, format='png', bbox_inches='tight')\r\n",
    "\r\n",
    "    save_to = os.path.join('data/processed/finalstep/', 'unsup2sup_cntr')\r\n",
    "    if not os.path.exists(save_to):\r\n",
    "        os.makedirs(save_to)\r\n",
    "    io.imsave(os.path.join(save_to, fname+'.png'), unsup2sup_img)\r\n",
    "    save_to = os.path.join('data/processed/finalstep/', 'mask_unsup2sup_cntr')\r\n",
    "    if not os.path.exists(save_to):\r\n",
    "        os.makedirs(save_to)\r\n",
    "    io.imsave(os.path.join(save_to, fname+'.png'), unsup2sup_mask)\r\n",
    "\r\n",
    "    # save_to = os.path.join('data/processed/finalstep/', 'unsup2sup_crf')\r\n",
    "    # if not os.path.exists(save_to):\r\n",
    "    #     os.makedirs(save_to)\r\n",
    "    # io.imsave(os.path.join(save_to, fname+'.png'), crf_img)\r\n",
    "    # save_to = os.path.join('data/processed/finalstep/', 'mask_unsup2sup_crf')\r\n",
    "    # if not os.path.exists(save_to):\r\n",
    "    #     os.makedirs(save_to)\r\n",
    "    # io.imsave(os.path.join(save_to, fname+'.png'), crf_mask)\r\n",
    "\r\n",
    "    save_to = os.path.join('data/processed/finalstep/', 'unsup2sup_crf_cntr')\r\n",
    "    if not os.path.exists(save_to):\r\n",
    "        os.makedirs(save_to)\r\n",
    "    io.imsave(os.path.join(save_to, fname+'.png'), cntr_img)\r\n",
    "    save_to = os.path.join('data/processed/finalstep/',\r\n",
    "                           'mask_unsup2sup_crf_cntr')\r\n",
    "    if not os.path.exists(save_to):\r\n",
    "        os.makedirs(save_to)\r\n",
    "    io.imsave(os.path.join(save_to, fname+'.png'), cntr_mask)\r\n"
   ],
   "outputs": [
    {
     "output_type": "stream",
     "name": "stdout",
     "text": [
      "0 CARS0877_cropped\n",
      "1 GEO125_SJTT2204_1 2_male_cropped\n"
     ]
    }
   ],
   "metadata": {}
  },
  {
   "cell_type": "code",
   "execution_count": null,
   "source": [],
   "outputs": [],
   "metadata": {}
  }
 ],
 "metadata": {
  "kernelspec": {
   "name": "python3",
   "display_name": "Python 3.6.10 64-bit ('pytorch_as': conda)"
  },
  "language_info": {
   "codemirror_mode": {
    "name": "ipython",
    "version": 3
   },
   "file_extension": ".py",
   "mimetype": "text/x-python",
   "name": "python",
   "nbconvert_exporter": "python",
   "pygments_lexer": "ipython3",
   "version": "3.6.10"
  },
  "interpreter": {
   "hash": "767ff6576c7eba15bad5a07142350681047bd40e84506b83ff3bf66ae7a61e76"
  }
 },
 "nbformat": 4,
 "nbformat_minor": 4
}