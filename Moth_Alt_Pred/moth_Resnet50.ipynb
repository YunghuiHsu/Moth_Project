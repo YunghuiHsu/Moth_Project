{
 "cells": [
  {
   "cell_type": "code",
   "execution_count": 1,
   "metadata": {},
   "outputs": [
    {
     "name": "stdout",
     "output_type": "stream",
     "text": [
      "1.0.3\n",
      "1.18.1\n",
      "1.4.0\n",
      "Python 3.6.10\n"
     ]
    }
   ],
   "source": [
    "import pandas as pd\n",
    "import numpy as np\n",
    "import torch\n",
    "import os, time, glob\n",
    "import matplotlib.pyplot as plt\n",
    "%matplotlib inline\n",
    "\n",
    "# 檢查系統與軟體版本\n",
    "print(pd.__version__)\n",
    "print(np.__version__)\n",
    "print(torch.__version__)\n",
    "!python -V\n",
    "# !uname  -srvm\n",
    "# !lscpu  | grep \"Model name:\" # 檢查CPU資訊\n",
    "# !nvidia-smi # 檢查GPU資訊\n",
    "\n",
    "model_name  =  f'Resnet50_210325'\n",
    "path = f'./checkpoint/{model_name}.pth'"
   ]
  },
  {
   "cell_type": "markdown",
   "metadata": {},
   "source": [
    "## 1. 準備資料集"
   ]
  },
  {
   "cell_type": "markdown",
   "metadata": {},
   "source": [
    "### 1.1 載入資料"
   ]
  },
  {
   "cell_type": "code",
   "execution_count": 2,
   "metadata": {},
   "outputs": [
    {
     "name": "stdout",
     "output_type": "stream",
     "text": [
      "74335\n",
      "53753\n"
     ]
    }
   ],
   "source": [
    "from sklearn.model_selection import train_test_split\n",
    "from sklearn.utils import shuffle\n",
    "\n",
    "# 讀取csv檔\n",
    "csv_path = 'sp_meta.csv'\n",
    "df = pd.read_csv(csv_path, sep='\\t')\n",
    "print(df.shape[0]) # 74335\n",
    "\n",
    "# 取得影像檔名\n",
    "df['ImgName'] = df.Number+'.jpg'\n",
    "\n",
    "# 取得各物種海拔均值與樣本數\n",
    "alt_mean = (df.groupby('Species')['Alt'].agg([np.mean, np.size])\n",
    "              .rename(columns={'mean':'Alt_Mean', 'size':'Count'}).reset_index())\n",
    "\n",
    "# (df.groupby('Species').agg(Alt_Mean = pd.NamedAgg( \"Alt\", \"min\"),\n",
    "#                            Count = pd.NamedAgg( \"Alt\", \"size\"))).reset_index())\n",
    "\n",
    "df = pd.merge(df, alt_mean, on='Species' ,how='right')  # 依照物種欄位合併，物種名稱有缺值的會直接去除  get n=53753\n",
    "print(df.shape[0]) # 53753\n",
    "df = shuffle(df, random_state=10) # 洗牌打亂順序\n"
   ]
  },
  {
   "cell_type": "markdown",
   "metadata": {},
   "source": [
    "### 1.1.1 按比例切分樣本"
   ]
  },
  {
   "cell_type": "code",
   "execution_count": 3,
   "metadata": {},
   "outputs": [],
   "source": [
    "# sp_list = df.Species.unique() # 取得物種名錄\n",
    "\n",
    "# for i,sp in enumerate(sp_list):\n",
    "#     sp_s = (df.Species== sp_list[i])\n",
    "#     X = df[sp_s].loc[:, 'ImgName']\n",
    "#     y = df[sp_s].loc[:, 'Alt_Mean']\n",
    "# #     print(sp_list[i],data[sp_s].shape[0])\n",
    "\n",
    "#     if df[sp_s].shape[0]>=3: # 當樣本數3以上\n",
    "# #         print(sp_list[i],df[sp_s].shape[0])\n",
    "\n",
    "#         X_train_t, X_test_t , y_train_t, y_test_t   = train_test_split(X, y , test_size=0.2)\n",
    "#         X_train_t, X_valid_t, y_train_t, y_valid_t  = train_test_split(X_train_t, y_train_t, test_size=0.2)\n",
    "        \n",
    "#         if i == 0:\n",
    "#             X_train, y_train =  X_train_t, y_train_t\n",
    "#             X_valid, y_valid =  X_valid_t, y_valid_t\n",
    "#             X_test , y_test  =  X_test_t , y_test_t\n",
    "\n",
    "#         else:\n",
    "#             X_train, y_train = np.concatenate((X_train_t, X_train)), np.concatenate((y_train_t, y_train))\n",
    "#             X_valid, y_valid = np.concatenate((X_valid_t, X_valid)), np.concatenate((y_valid_t, y_valid))\n",
    "#             X_test , y_test  = np.concatenate((X_test_t, X_test)), np.concatenate((y_test_t, y_test))\n",
    "            \n",
    "# #     if df[sp_s].shape[0]==2:  # 當樣本數為2，分配給train,valid各一半\n",
    "# #         X_train_t, X_valid_t, y_train_t, y_valid_t  = train_test_split(X, y, test_size=0.5)\n",
    "# #         X_train, y_train = np.concatenate((X_train_t, X_train)), np.concatenate((y_train_t, y_train))\n",
    "# #         X_valid, y_valid = np.concatenate((X_valid_t, X_valid)), np.concatenate((y_valid_t, y_valid))\n",
    "        \n",
    "# #     if df[sp_s].shape[0]==1:  # 當樣本數為１，全部分配給train\n",
    "# #         X_train, y_train = np.concatenate((X, X_train)), np.concatenate((y, y_train)) \n",
    "# print(f'Total: {X_train.shape[0]+X_valid.shape[0]+X_test.shape[0]}\\n  train: {X_train.shape[0]}\\n  valid: {X_valid.shape[0]}\\n  test : {X_test.shape[0]}')\n",
    "\n",
    "# # save meta data \n",
    "# pd.DataFrame({'ImgName':X_train, 'Alt_Mean':y_train}).to_csv(f'./meta/train_3.csv')\n",
    "# pd.DataFrame({'ImgName':X_valid, 'Alt_Mean':y_valid}).to_csv(f'./meta/valid_3.csv')\n",
    "# pd.DataFrame({'ImgName':X_test , 'Alt_Mean': y_test}).to_csv(f'./meta/test_3.csv')"
   ]
  },
  {
   "cell_type": "code",
   "execution_count": 4,
   "metadata": {},
   "outputs": [],
   "source": [
    "#load meta data \n",
    "tra,val,test = [pd.read_csv(f'./meta/{name}_all.csv', index_col=0) for name in ['train','valid','test']]\n",
    "X_train, y_train =  tra.ImgName,  tra.Alt_Mean\n",
    "X_valid, y_valid =  val.ImgName,  val.Alt_Mean\n",
    "X_test,  y_test  = test.ImgName, test.Alt_Mean"
   ]
  },
  {
   "cell_type": "markdown",
   "metadata": {},
   "source": [
    "### 1.1.2 隨機切分樣本　"
   ]
  },
  {
   "cell_type": "code",
   "execution_count": 5,
   "metadata": {},
   "outputs": [],
   "source": [
    "# from sklearn.model_selection import train_test_split\n",
    "# X, y = df.loc[:, 'ImgName'], df.loc[:, 'Alt_Mean']\n",
    "\n",
    "# print(X.shape[0])\n",
    "# # 切分資料\n",
    "# random_state = 50 # 設定隨機狀態\n",
    "\n",
    "# # 先將資料切20%為測試資料，再將剩下的訓練資料切分20%為驗證資料\n",
    "# X_train, X_test, y_train, y_test    = train_test_split(X, y, test_size=0.2, random_state=random_state)\n",
    "# X_train, X_valid, y_train, y_valid = train_test_split(X_train, y_train, test_size=0.2, random_state=random_state)\n",
    "# print(f'Total: {X_train.shape[0]+X_valid.shape[0]+X_test.shape[0]}\\n  train: {X_train.shape[0]}\\n  valid: {X_valid.shape[0]}\\n  test : {X_test.shape[0]}')\n"
   ]
  },
  {
   "cell_type": "markdown",
   "metadata": {},
   "source": [
    "#### 載入自定義的客製資料集"
   ]
  },
  {
   "cell_type": "code",
   "execution_count": 6,
   "metadata": {},
   "outputs": [],
   "source": [
    "from PIL import Image\n",
    "import torchvision.transforms as transforms\n",
    "from torch.utils.data import DataLoader\n",
    "from torch.utils.data.dataset import Dataset\n",
    "import scripts.mothDataset as myDataset # 從script 資料夾的　mothDataset.py檔案中，引入mothDataset這個類別"
   ]
  },
  {
   "cell_type": "code",
   "execution_count": 7,
   "metadata": {},
   "outputs": [],
   "source": [
    "# 指定資料轉型、增強方式\n",
    "mean = np.array([0.70, 0.70, 0.70])\n",
    "std  = np.array([0.25, 0.25, 0.25])\n",
    "# mean=np.array([0.485, 0.456, 0.406]); std=np.array([0.229, 0.224, 0.225]) #setting of YY\n",
    "size=(224, 224)\n",
    "\n",
    "train_transform = transforms.Compose([\n",
    "    transforms.RandomPerspective(distortion_scale=0.2),              #　改變透視扭曲程度\n",
    "    transforms.ColorJitter(brightness=0.2, contrast=0.2,\n",
    "                           saturation=0.1, hue=0.1),                #　改變色彩\n",
    "    transforms.RandomAffine(degrees=5, shear=5, scale=(0.9,1.1)),  #　選轉角度、變焦、縮放、改變剪切角度    \n",
    "    transforms.RandomHorizontalFlip(),\n",
    "    transforms.RandomCrop((224,224)),\n",
    "    transforms.RandomRotation(20),\n",
    "    transforms.ToTensor(), \n",
    "    transforms.Normalize(mean, std)])   \n",
    "\n",
    "test_transform = transforms.Compose([\n",
    "    transforms.Resize(size),\n",
    "    transforms.ToTensor(),\n",
    "    transforms.Normalize(mean=mean, std=std)])"
   ]
  },
  {
   "cell_type": "code",
   "execution_count": 8,
   "metadata": {},
   "outputs": [],
   "source": [
    "root = './downloaded256/'\n",
    "csv_path = 'sp_meta.csv'\n",
    "\n",
    "# 設定參數\n",
    "batch_size  = 64    # 可塞入記憶體的最大批次\n",
    "num_workers = 4\n",
    "pin_memory  = True\n",
    "drop_last   = True\n",
    "\n",
    "# 客製Dataset載入資料\n",
    "train_set = myDataset.MothImgDataset(image_root=root, X=X_train, y=y_train, transform= train_transform)\n",
    "valid_set = myDataset.MothImgDataset(image_root=root, X=X_valid, y=y_valid, transform=  test_transform)\n",
    "test_set  = myDataset.MothImgDataset(image_root=root, X= X_test, y= y_test, transform=  test_transform)\n",
    "\n",
    "# DataLoader將資料把包成批次\n",
    "train_loader = DataLoader(dataset=train_set, shuffle=True, num_workers=num_workers, batch_size=batch_size, pin_memory=pin_memory, drop_last=drop_last)\n",
    "valid_loader = DataLoader(dataset=valid_set, shuffle=True, num_workers=num_workers, batch_size=batch_size, pin_memory=pin_memory)\n",
    "test_loader  = DataLoader(dataset= test_set, shuffle=False,num_workers=num_workers, batch_size=96, pin_memory=pin_memory)\n"
   ]
  },
  {
   "cell_type": "code",
   "execution_count": 9,
   "metadata": {},
   "outputs": [],
   "source": [
    "# # 檢視資料形狀、大小\n",
    "# print(f'Train size : {len(train_set):5d}, iter_size: {len(train_loader):4d}')\n",
    "# print(f'Valid size : {len(valid_set):5d}, iter_size: {len(valid_loader):4d}')\n",
    "# print(f' Test size : { len(test_set):5d}, iter_size: { len(test_loader):4d}')\n",
    "\n",
    "# images, labels = next(iter(train_loader))\n",
    "# print('Train data set:', images.shape, labels.shape)   # (batch_size, channel, w, h) \n",
    "# images, labels = next(iter(valid_loader))\n",
    "# print('Valid data set:', images.shape, labels.shape)   # (batch_size, channel, w, h) \n",
    "# images, labels = next(iter(test_loader))\n",
    "# print(' Test data set:', images.shape, labels.shape)   # (batch_size, channel, w, h) "
   ]
  },
  {
   "cell_type": "markdown",
   "metadata": {},
   "source": [
    "#### 資料視覺化"
   ]
  },
  {
   "cell_type": "code",
   "execution_count": 10,
   "metadata": {},
   "outputs": [],
   "source": [
    "import matplotlib.pyplot as plt\n",
    "import torchvision \n",
    "\n",
    "def im_convert(tensor):  \n",
    "    image = tensor.cpu().clone().detach().numpy() # This process will happen in normal cpu.\n",
    "    image = image.transpose(1, 2, 0)              # (c,w,h) > (w,h,c)\n",
    "    image = image*std + mean                      # unnormalize\n",
    "#     image = image.clip(0, 1)\n",
    "    plt.imshow(image)\n"
   ]
  },
  {
   "cell_type": "code",
   "execution_count": 11,
   "metadata": {},
   "outputs": [],
   "source": [
    "# # 隨機讀取圖片\n",
    "# dataiter = iter(train_loader)\n",
    "# images, labels = dataiter.next()\n",
    "\n",
    "# # 顯示圖片\n",
    "# im_convert(torchvision.utils.make_grid(images[:15], nrow=5, \n",
    "#                                        padding=1, normalize=False, range=None, scale_each=False))"
   ]
  },
  {
   "cell_type": "markdown",
   "metadata": {},
   "source": [
    "## 2. 定義神經網路(CNN)"
   ]
  },
  {
   "cell_type": "markdown",
   "metadata": {},
   "source": [
    "### 載入預先訓練好的模型"
   ]
  },
  {
   "cell_type": "code",
   "execution_count": 12,
   "metadata": {},
   "outputs": [],
   "source": [
    "# 指定GPU位置\n",
    "device = torch.device(\"cuda:1\" if torch.cuda.is_available() else \"cpu\")\n",
    "with torch.cuda.device('cuda:1'):\n",
    "    torch.cuda.empty_cache()"
   ]
  },
  {
   "cell_type": "code",
   "execution_count": 13,
   "metadata": {},
   "outputs": [],
   "source": [
    "from torchvision import models\n",
    "import torch.nn as nn\n",
    "model = models.resnet50(pretrained=True)\n",
    "model.fc = nn.Linear(in_features=2048, out_features=1, bias=True)\n",
    "model = model.to(device) "
   ]
  },
  {
   "cell_type": "code",
   "execution_count": 14,
   "metadata": {},
   "outputs": [],
   "source": [
    "# # 評估模型摘要\n",
    "# input_size = (3, 256, 256)\n",
    "# batch_size = 32\n",
    "# from torchsummary import summary\n",
    "# summary(model.to(device), input_size=input_size, batch_size=batch_size, device='cuda')\n"
   ]
  },
  {
   "cell_type": "markdown",
   "metadata": {},
   "source": [
    "## 3. 定義損失函數和最佳化器(Loss 、Optimizer)"
   ]
  },
  {
   "cell_type": "code",
   "execution_count": 20,
   "metadata": {},
   "outputs": [],
   "source": [
    "from torch import  nn\n",
    "import torch.optim as optim\n",
    "from torch.optim import lr_scheduler\n",
    "\n",
    "criterion = nn.MSELoss()\n",
    "\n",
    "optimizer = optim.Adam(model.parameters(), lr=1e-6, weight_decay=0.1)\n",
    "\n",
    "def set_opt(lr=None, factor=None, weight_decay=None):\n",
    "    optimizer = optim.Adam(model.parameters(), lr=lr, weight_decay=weight_decay)\n",
    "    scheduler = lr_scheduler.ReduceLROnPlateau(optimizer, mode='min', factor=factor, patience=10, verbose=True)\n",
    "    return optimizer, scheduler\n"
   ]
  },
  {
   "cell_type": "markdown",
   "metadata": {},
   "source": [
    "## 4. 訓練模型"
   ]
  },
  {
   "cell_type": "markdown",
   "metadata": {},
   "source": [
    "#### 模型檢查點(Checkpoint)儲存與載入"
   ]
  },
  {
   "cell_type": "code",
   "execution_count": 16,
   "metadata": {},
   "outputs": [
    {
     "name": "stdout",
     "output_type": "stream",
     "text": [
      "log file resetted:\n",
      "    train_log, valid_log, lr_log\n"
     ]
    }
   ],
   "source": [
    "# 呼叫模型檢查點(Checkpoint)儲存與載入函式\n",
    "from scripts.checkpoint import save_checkpoint, load_checkpoint\n",
    "\n",
    "# 呼叫訓練與評估函式\n",
    "from scripts import utilities\n",
    "from scripts.utilities import train, evaluate, save_log, get_LossFig, test, early_stop"
   ]
  },
  {
   "cell_type": "markdown",
   "metadata": {},
   "source": [
    "#### 訓練模型"
   ]
  },
  {
   "cell_type": "code",
   "execution_count": 23,
   "metadata": {},
   "outputs": [],
   "source": [
    "def training_model(n_epoch, optimizer, scheduler):\n",
    "    best_loss =1e10  ; patience=20 ; trigger_times=0 # 設定初始值\n",
    "    for epoch in range(n_epoch):  # loop over the dataset multiple times\n",
    "        print(f'epoch:{epoch+1 :3d}')\n",
    "        start = time.time()\n",
    "        train_loss, valid_loss= 0.0, 0.0 # 每輪重新歸零\n",
    "\n",
    "        train_loss = train(model, optimizer, train_loader, device)\n",
    "        print(f'  Train Loss: {train_loss:,.0f}')\n",
    "        valid_loss = evaluate(model, valid_loader, device) # 評估後後取出驗證資料集的loss\n",
    "        print(f'  Valid Loss: {valid_loss:,.0f}')\n",
    "\n",
    "        # 擷取最佳模型\n",
    "        if best_loss > valid_loss:\n",
    "            decline = (best_loss-valid_loss)/best_loss*100\n",
    "            best_loss = valid_loss\n",
    "            save_checkpoint(model, optimizer,path, epoch, best_loss)             \n",
    "            print(f'  Best loss updated: {best_loss:,.0f}, {decline:.2f}% declined.  Model Saved!') \n",
    "\n",
    "        # 更新學習速率\n",
    "        scheduler.step(valid_loss)\n",
    "        print(f'  lr_sch : {scheduler._last_lr[0]}')\n",
    "        \n",
    "        # 儲存log\n",
    "        save_log(fileName=model_name)\n",
    "\n",
    "        # early stopping\n",
    "        trigger_times = early_stop(valid_loss, best_loss, trigger_times, patience)\n",
    "        if trigger_times >= patience:\n",
    "            print('Early stopping!')\n",
    "            break\n",
    "\n",
    "        if epoch%10 ==0 :\n",
    "            pass_ = time.time() - start\n",
    "            print(f'  Time passed per epoch: {pass_//60 :.0f}m {pass_%60:.0f}s')\n",
    "            \n",
    "    print(f'Best val_loss: {best_loss:,.0f}')\n",
    "    print(f'Finished Training.')\n",
    "    "
   ]
  },
  {
   "cell_type": "code",
   "execution_count": 18,
   "metadata": {},
   "outputs": [],
   "source": [
    "# train_log, valid_log, lr_log  = [], [], []"
   ]
  },
  {
   "cell_type": "code",
   "execution_count": null,
   "metadata": {
    "tags": []
   },
   "outputs": [
    {
     "name": "stdout",
     "output_type": "stream",
     "text": [
      "\n",
      "lr reduced to 1e-7\n",
      "epoch:  1\n",
      "  Train Loss: 893,291\n",
      "  Valid Loss: 940,126\n",
      "  Best loss updated: 940,126, 99.99% declined.  Model Saved!\n",
      "  lr_sch : 1e-07\n",
      "  Time passed per epoch: 3m 28s\n",
      "epoch:  2\n",
      "  Train Loss: 892,632\n",
      "  Valid Loss: 940,988\n",
      "  lr_sch : 1e-07\n",
      "  trigger times: 1\n",
      "epoch:  3\n",
      "  Train Loss: 892,663\n",
      "  Valid Loss: 939,758\n",
      "  Best loss updated: 939,758, 0.04% declined.  Model Saved!\n",
      "  lr_sch : 1e-07\n",
      "epoch:  4\n",
      "  Train Loss: 892,485\n",
      "  Valid Loss: 940,541\n",
      "  lr_sch : 1e-07\n",
      "  trigger times: 1\n",
      "epoch:  5\n",
      "  Train Loss: 892,311\n",
      "  Valid Loss: 941,344\n",
      "  lr_sch : 1e-07\n",
      "  trigger times: 2\n",
      "epoch:  6\n"
     ]
    }
   ],
   "source": [
    "# 先逐步預熱模型\n",
    "optimizer, scheduler = set_opt(lr=1e-7, factor=0.1, weight_decay=0)\n",
    "print('\\nlr reduced to 1e-7')\n",
    "training_model(10, optimizer, scheduler)\n",
    "\n",
    "optimizer, scheduler = set_opt(lr=1e-6, factor=0.1, weight_decay=0)\n",
    "print('\\nlr reduced to 1e-6')\n",
    "training_model(10, optimizer, scheduler)\n",
    "\n",
    "save_checkpoint(model, optimizer, path=f'./checkpoint/{model_name}_warm.pth' , epoch=20)  #預存個剛熱好機的模型"
   ]
  },
  {
   "cell_type": "code",
   "execution_count": null,
   "metadata": {
    "tags": []
   },
   "outputs": [],
   "source": [
    "# 正式開始訓練\n",
    "batch_size=32  # 從64縮小為16 增加最後微調時的樣本誤差\n",
    "train_loader = DataLoader(dataset=train_set, shuffle=True, num_workers=num_workers, batch_size=batch_size, pin_memory=pin_memory, drop_last=drop_last)\n",
    "valid_loader = DataLoader(dataset=valid_set, shuffle=True, num_workers=num_workers, batch_size=batch_size, pin_memory=pin_memory)\n",
    "\n",
    "optimizer, scheduler = set_opt(lr=1e-5, factor=0.1, weight_decay=0.1)\n",
    "training_model(100, optimizer, scheduler)\n",
    "save_checkpoint(model, optimizer, path=f'./checkpoint/{model_name}_after100.pth' , epoch=20)  #預存個剛熱好機的模型"
   ]
  },
  {
   "cell_type": "code",
   "execution_count": null,
   "metadata": {
    "tags": []
   },
   "outputs": [],
   "source": [
    "get_LossFig(figName=model_name, s=0, e=None, savefig=True)"
   ]
  },
  {
   "cell_type": "code",
   "execution_count": null,
   "metadata": {
    "collapsed": true,
    "jupyter": {
     "outputs_hidden": true
    },
    "tags": []
   },
   "outputs": [
    {
     "name": "stdout",
     "output_type": "stream",
     "text": [
      "epoch:  1\n",
      "  Train Loss: 47,862\n",
      "  Valid Loss: 77,985\n",
      "  Best loss updated: 77,985, 100.00% declined.  Model Saved!\n",
      "  lr_sch : 1e-06\n",
      "  Time passed per epoch: 3m 14s\n",
      "epoch:  2\n",
      "  Train Loss: 44,643\n",
      "  Valid Loss: 78,153\n",
      "  lr_sch : 1e-06\n",
      "  Early stopping trigger times: 1\n",
      "epoch:  3\n",
      "  Train Loss: 42,601\n",
      "  Valid Loss: 75,938\n",
      "  Best loss updated: 75,938, 2.62% declined.  Model Saved!\n",
      "  lr_sch : 1e-06\n",
      "epoch:  4\n",
      "  Train Loss: 41,672\n",
      "  Valid Loss: 74,131\n",
      "  Best loss updated: 74,131, 2.38% declined.  Model Saved!\n",
      "  lr_sch : 1e-06\n",
      "epoch:  5\n",
      "  Train Loss: 41,552\n",
      "  Valid Loss: 72,758\n",
      "  Best loss updated: 72,758, 1.85% declined.  Model Saved!\n",
      "  lr_sch : 1e-06\n",
      "epoch:  6\n",
      "  Train Loss: 41,007\n",
      "  Valid Loss: 75,647\n",
      "  lr_sch : 1e-06\n",
      "  Early stopping trigger times: 1\n",
      "epoch:  7\n",
      "  Train Loss: 40,211\n",
      "  Valid Loss: 74,293\n",
      "  lr_sch : 1e-06\n",
      "  Early stopping trigger times: 2\n",
      "epoch:  8\n",
      "  Train Loss: 39,322\n",
      "  Valid Loss: 72,435\n",
      "  Best loss updated: 72,435, 0.44% declined.  Model Saved!\n",
      "  lr_sch : 1e-06\n",
      "epoch:  9\n",
      "  Train Loss: 39,025\n",
      "  Valid Loss: 74,644\n",
      "  lr_sch : 1e-06\n",
      "  Early stopping trigger times: 1\n",
      "epoch: 10\n",
      "  Train Loss: 38,600\n",
      "  Valid Loss: 71,965\n",
      "  Best loss updated: 71,965, 0.65% declined.  Model Saved!\n",
      "  lr_sch : 1e-06\n",
      "epoch: 11\n",
      "  Train Loss: 37,918\n",
      "  Valid Loss: 70,511\n",
      "  Best loss updated: 70,511, 2.02% declined.  Model Saved!\n",
      "  lr_sch : 1e-06\n",
      "  Time passed per epoch: 3m 15s\n",
      "epoch: 12\n",
      "  Train Loss: 37,606\n",
      "  Valid Loss: 72,722\n",
      "  lr_sch : 1e-06\n",
      "  Early stopping trigger times: 1\n",
      "epoch: 13\n",
      "  Train Loss: 36,980\n",
      "  Valid Loss: 74,397\n",
      "  lr_sch : 1e-06\n",
      "  Early stopping trigger times: 2\n",
      "epoch: 14\n",
      "  Train Loss: 37,016\n",
      "  Valid Loss: 72,140\n",
      "  lr_sch : 1e-06\n",
      "  Early stopping trigger times: 3\n",
      "epoch: 15\n",
      "  Train Loss: 36,073\n",
      "  Valid Loss: 71,130\n",
      "  lr_sch : 1e-06\n",
      "  Early stopping trigger times: 4\n",
      "epoch: 16\n",
      "  Train Loss: 36,563\n",
      "  Valid Loss: 72,636\n",
      "  lr_sch : 1e-06\n",
      "  Early stopping trigger times: 5\n",
      "epoch: 17\n",
      "  Train Loss: 36,568\n",
      "  Valid Loss: 73,796\n",
      "  lr_sch : 1e-06\n",
      "  Early stopping trigger times: 6\n",
      "epoch: 18\n",
      "  Train Loss: 35,909\n",
      "  Valid Loss: 70,537\n",
      "  lr_sch : 1e-06\n",
      "  Early stopping trigger times: 7\n",
      "epoch: 19\n",
      "  Train Loss: 35,705\n",
      "  Valid Loss: 74,641\n",
      "  lr_sch : 1e-06\n",
      "  Early stopping trigger times: 8\n",
      "epoch: 20\n",
      "  Train Loss: 35,454\n",
      "  Valid Loss: 70,938\n",
      "  lr_sch : 1e-06\n",
      "  Early stopping trigger times: 9\n",
      "epoch: 21\n",
      "  Train Loss: 35,111\n",
      "  Valid Loss: 71,401\n",
      "  lr_sch : 1e-06\n",
      "  Early stopping trigger times: 10\n",
      "  Time passed per epoch: 3m 18s\n",
      "epoch: 22\n",
      "  Train Loss: 34,779\n",
      "  Valid Loss: 71,475\n",
      "Epoch    22: reducing learning rate of group 0 to 1.0000e-07.\n",
      "  lr_sch : 1e-07\n",
      "  Early stopping trigger times: 11\n",
      "epoch: 23\n",
      "  Train Loss: 33,587\n",
      "  Valid Loss: 70,508\n",
      "  Best loss updated: 70,508, 0.00% declined.  Model Saved!\n",
      "  lr_sch : 1e-07\n",
      "epoch: 24\n",
      "  Train Loss: 33,344\n",
      "  Valid Loss: 70,702\n",
      "  lr_sch : 1e-07\n",
      "  Early stopping trigger times: 1\n",
      "epoch: 25\n",
      "  Train Loss: 33,659\n",
      "  Valid Loss: 71,124\n",
      "  lr_sch : 1e-07\n",
      "  Early stopping trigger times: 2\n",
      "epoch: 26\n",
      "  Train Loss: 33,167\n",
      "  Valid Loss: 71,637\n",
      "  lr_sch : 1e-07\n",
      "  Early stopping trigger times: 3\n",
      "epoch: 27\n",
      "  Train Loss: 33,513\n",
      "  Valid Loss: 70,173\n",
      "  Best loss updated: 70,173, 0.47% declined.  Model Saved!\n",
      "  lr_sch : 1e-07\n",
      "epoch: 28\n",
      "  Train Loss: 32,837\n",
      "  Valid Loss: 72,147\n",
      "  lr_sch : 1e-07\n",
      "  Early stopping trigger times: 1\n",
      "epoch: 29\n",
      "  Train Loss: 33,114\n",
      "  Valid Loss: 70,323\n",
      "  lr_sch : 1e-07\n",
      "  Early stopping trigger times: 2\n",
      "epoch: 30\n",
      "  Train Loss: 33,051\n",
      "  Valid Loss: 70,595\n",
      "  lr_sch : 1e-07\n",
      "  Early stopping trigger times: 3\n",
      "epoch: 31\n",
      "  Train Loss: 32,945\n",
      "  Valid Loss: 69,918\n",
      "  Best loss updated: 69,918, 0.36% declined.  Model Saved!\n",
      "  lr_sch : 1e-07\n",
      "  Time passed per epoch: 3m 15s\n",
      "epoch: 32\n",
      "  Train Loss: 33,019\n",
      "  Valid Loss: 69,658\n",
      "  Best loss updated: 69,658, 0.37% declined.  Model Saved!\n",
      "  lr_sch : 1e-07\n",
      "epoch: 33\n",
      "  Train Loss: 33,139\n",
      "  Valid Loss: 69,658\n",
      "  lr_sch : 1e-07\n",
      "  Early stopping trigger times: 1\n",
      "epoch: 34\n",
      "  Train Loss: 32,630\n",
      "  Valid Loss: 70,258\n",
      "  lr_sch : 1e-07\n",
      "  Early stopping trigger times: 2\n",
      "epoch: 35\n",
      "  Train Loss: 32,871\n",
      "  Valid Loss: 70,941\n",
      "  lr_sch : 1e-07\n",
      "  Early stopping trigger times: 3\n",
      "epoch: 36\n",
      "  Train Loss: 32,624\n",
      "  Valid Loss: 69,586\n",
      "  Best loss updated: 69,586, 0.10% declined.  Model Saved!\n",
      "  lr_sch : 1e-07\n",
      "epoch: 37\n",
      "  Train Loss: 32,174\n",
      "  Valid Loss: 69,976\n",
      "  lr_sch : 1e-07\n",
      "  Early stopping trigger times: 1\n",
      "epoch: 38\n",
      "  Train Loss: 32,295\n",
      "  Valid Loss: 70,858\n",
      "  lr_sch : 1e-07\n",
      "  Early stopping trigger times: 2\n",
      "epoch: 39\n",
      "  Train Loss: 32,579\n",
      "  Valid Loss: 70,143\n",
      "  lr_sch : 1e-07\n",
      "  Early stopping trigger times: 3\n",
      "epoch: 40\n",
      "  Train Loss: 32,205\n",
      "  Valid Loss: 70,051\n",
      "  lr_sch : 1e-07\n",
      "  Early stopping trigger times: 4\n",
      "epoch: 41\n",
      "  Train Loss: 32,365\n",
      "  Valid Loss: 69,140\n",
      "  Best loss updated: 69,140, 0.64% declined.  Model Saved!\n",
      "  lr_sch : 1e-07\n",
      "  Time passed per epoch: 3m 17s\n",
      "epoch: 42\n",
      "  Train Loss: 31,770\n",
      "  Valid Loss: 71,174\n",
      "  lr_sch : 1e-07\n",
      "  Early stopping trigger times: 1\n",
      "epoch: 43\n",
      "  Train Loss: 32,608\n",
      "  Valid Loss: 70,306\n",
      "  lr_sch : 1e-07\n",
      "  Early stopping trigger times: 2\n",
      "epoch: 44\n",
      "  Train Loss: 32,936\n",
      "  Valid Loss: 68,830\n",
      "  Best loss updated: 68,830, 0.45% declined.  Model Saved!\n",
      "  lr_sch : 1e-07\n",
      "epoch: 45\n"
     ]
    }
   ],
   "source": [
    "# 估計約50輪後會開始卡住，調降下降幅度\n",
    "\n",
    "# 優化器改為SGD\n",
    "optimizer = optim.SGD(model.parameters(), lr=1e-6, momentum=0.9 ,weight_decay=0.1)\n",
    "scheduler = lr_scheduler.ReduceLROnPlateau(optimizer, mode='min', factor=0.1, patience=10, verbose=True)\n",
    "\n",
    "training_model(100, optimizer, scheduler)\n"
   ]
  },
  {
   "cell_type": "code",
   "execution_count": 17,
   "metadata": {
    "tags": []
   },
   "outputs": [
    {
     "data": {
      "image/png": "[encoded data removed]",
      "text/plain": [
       "<Figure size 432x288 with 2 Axes>"
      ]
     },
     "metadata": {},
     "output_type": "display_data"
    }
   ],
   "source": [
    "get_LossFig(figName=model_name, s=0, e=None, savefig=True)"
   ]
  },
  {
   "cell_type": "code",
   "execution_count": null,
   "metadata": {},
   "outputs": [],
   "source": [
    "# len(train_log), len(valid_log), len(lr_log)"
   ]
  },
  {
   "cell_type": "markdown",
   "metadata": {},
   "source": [
    "## 5. 使用測試數據驗證結果\n"
   ]
  },
  {
   "cell_type": "code",
   "execution_count": 18,
   "metadata": {},
   "outputs": [
    {
     "name": "stdout",
     "output_type": "stream",
     "text": [
      "best_loss:81246.1501\n",
      "Resnet50_210325.pth loaded!\n"
     ]
    },
    {
     "data": {
      "text/plain": [
       "Adam (\n",
       "Parameter Group 0\n",
       "    amsgrad: False\n",
       "    dampening: 0\n",
       "    lr: 5.000000000000001e-06\n",
       "    momentum: 0.9\n",
       "    nesterov: False\n",
       "    weight_decay: 0.1\n",
       ")"
      ]
     },
     "execution_count": 18,
     "metadata": {},
     "output_type": "execute_result"
    }
   ],
   "source": [
    "# 載入保存的模型\n",
    "load_checkpoint(model, optimizer, path, model_name)"
   ]
  },
  {
   "cell_type": "code",
   "execution_count": null,
   "metadata": {},
   "outputs": [],
   "source": [
    "torch.cuda.empty_cache()  # 清除ＧPU記憶體暫存"
   ]
  },
  {
   "cell_type": "code",
   "execution_count": null,
   "metadata": {},
   "outputs": [],
   "source": [
    "test_loader  = DataLoader(dataset= test_set, shuffle=False,num_workers=num_workers, batch_size=96, pin_memory=pin_memory)"
   ]
  },
  {
   "cell_type": "code",
   "execution_count": null,
   "metadata": {},
   "outputs": [],
   "source": [
    "model.to(device)\n",
    "y_test, y_pre = test(model, dataloader, device, model_name, save=True)"
   ]
  },
  {
   "cell_type": "code",
   "execution_count": null,
   "metadata": {},
   "outputs": [],
   "source": [
    "from sklearn.metrics import r2_score, mean_squared_error\n",
    "RMSE = mean_squared_error(y_test, y_pre, squared=False)\n",
    "R2 = r2_score(y_test, y_pre)\n",
    "print(f\"RMSE: {RMSE:.0f}\")                \n",
    "print(f\"R2 : {R2:.3f}\")"
   ]
  },
  {
   "cell_type": "code",
   "execution_count": null,
   "metadata": {},
   "outputs": [],
   "source": [
    "title_name = f'MothAlt_Pre_{model_name}\\n RMSE: {RMSE:.0f}, R2: {R2:.3f}'\n",
    "\n",
    "fig = plt.figure()\n",
    "plt.scatter(y_test, y_pre, s=0.7)\n",
    "plt.xlabel('Real', {'fontsize':12}),plt.ylabel('Pred', {'fontsize':14})\n",
    "plt.title(title_name, {'fontsize':14})\n",
    "fig.show();\n",
    "\n",
    "# 圖片存檔\n",
    "time_ = time.strftime(\"%y%m%d_%H%M\")\n",
    "fig.savefig(f'./figure/MothAlt_Pre_{title_name}.png', bbox_inches='tight')"
   ]
  },
  {
   "cell_type": "code",
   "execution_count": null,
   "metadata": {},
   "outputs": [],
   "source": []
  }
 ],
 "metadata": {
  "kernelspec": {
   "display_name": "Python 3",
   "language": "python",
   "name": "python3"
  },
  "language_info": {
   "codemirror_mode": {
    "name": "ipython",
    "version": 3
   },
   "file_extension": ".py",
   "mimetype": "text/x-python",
   "name": "python",
   "nbconvert_exporter": "python",
   "pygments_lexer": "ipython3",
   "version": "3.6.10"
  }
 },
 "nbformat": 4,
 "nbformat_minor": 4
}
