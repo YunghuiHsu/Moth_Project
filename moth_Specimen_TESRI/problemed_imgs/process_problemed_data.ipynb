{
 "cells": [
  {
   "cell_type": "code",
   "execution_count": 16,
   "id": "0c920f49",
   "metadata": {},
   "outputs": [],
   "source": [
    "import pandas as pd\n",
    "from pathlib import Path\n",
    "import sys"
   ]
  },
  {
   "cell_type": "code",
   "execution_count": 13,
   "id": "8f4ea5af",
   "metadata": {},
   "outputs": [],
   "source": [
    "dir_tesri = Path('../../moth_thermal_project/data/data_resize_cropped/tersi_imgs_forYY_cropped256_paddingbg')\n",
    "# path_tesri = list(dir_tesri.glob('*'))\n",
    "# print(path_tesri)"
   ]
  },
  {
   "cell_type": "code",
   "execution_count": 20,
   "id": "40c2e768",
   "metadata": {},
   "outputs": [
    {
     "data": {
      "text/plain": [
       "[PosixPath('NG'),\n",
       " PosixPath('process_problemed_data.ipynb'),\n",
       " PosixPath('.ipynb_checkpoints'),\n",
       " PosixPath('篩選原則與流程_黑白遮罩(mask).docx'),\n",
       " PosixPath('Cut_1'),\n",
       " PosixPath('remove_dul.py'),\n",
       " PosixPath('Notfull'),\n",
       " PosixPath('Broken'),\n",
       " PosixPath('篩選原則與流程_標本影像.docx'),\n",
       " PosixPath('Cut_0')]"
      ]
     },
     "execution_count": 20,
     "metadata": {},
     "output_type": "execute_result"
    }
   ],
   "source": [
    "dir_root = Path('.')\n",
    "list(dir_root.iterdir())"
   ]
  },
  {
   "cell_type": "code",
   "execution_count": 23,
   "id": "0d082e85",
   "metadata": {},
   "outputs": [
    {
     "name": "stdout",
     "output_type": "stream",
     "text": [
      "69664\n"
     ]
    }
   ],
   "source": [
    "!ls ../tesri_imgs_YY/  |wc -l\n"
   ]
  },
  {
   "cell_type": "code",
   "execution_count": 5,
   "id": "74d0497b",
   "metadata": {},
   "outputs": [],
   "source": [
    "dir_20 = Path('Broken/Broken_10-20')\n",
    "dir_40 = Path('Broken/Broken_20-40')\n",
    "dir_over40 = Path('Broken/Broken_over40')\n",
    "\n",
    "path_20, path_40, path_over40 = list(dir_20.glob(\n",
    "    '**/*')), list(dir_40.glob('**/*')), list(dir_over40.glob('**/*'))\n",
    "name_20, name_40, name_over40 = set(path.stem for path in path_20), set(\n",
    "    path.stem for path in path_40), set(path.stem for path in path_over40)"
   ]
  },
  {
   "cell_type": "code",
   "execution_count": 21,
   "id": "67c511db",
   "metadata": {},
   "outputs": [],
   "source": [
    "dir_NG = Path('NG')\n",
    "dir_notfull = Path('Notfull/Notfull_severe')\n",
    "name_notfull = set(path.stem for path in list(dir_notfull.glob('**/*')))\n",
    "name_NG = set(path.stem for path in list(dir_NG.glob('**/*')))"
   ]
  },
  {
   "cell_type": "code",
   "execution_count": 22,
   "id": "bbd6949b",
   "metadata": {},
   "outputs": [
    {
     "name": "stdout",
     "output_type": "stream",
     "text": [
      "64 307 149 314 656\n"
     ]
    },
    {
     "data": {
      "text/plain": [
       "827"
      ]
     },
     "execution_count": 22,
     "metadata": {},
     "output_type": "execute_result"
    }
   ],
   "source": [
    "print(len(name_NG), len(name_notfull),len(name_over40),len(name_40),len(name_20))\n",
    "name_deleted = set()\n",
    "name_deleted =   name_NG | name_notfull | name_40 | name_over40\n",
    "len(name_deleted)"
   ]
  },
  {
   "cell_type": "code",
   "execution_count": 14,
   "id": "9caf3940",
   "metadata": {},
   "outputs": [],
   "source": [
    "err_list = []\n",
    "for idx, name in enumerate(name_deleted):\n",
    "    path = dir_tesri.joinpath(name + '.png')\n",
    "    try: \n",
    "        path.unlink()\n",
    "        print(idx, name ,end='\\r')\n",
    "    except Exception as err:\n",
    "#         print(err)\n",
    "        err_list.append(name) \n",
    "       "
   ]
  },
  {
   "cell_type": "markdown",
   "id": "bd34ea9b",
   "metadata": {},
   "source": [
    "---"
   ]
  },
  {
   "cell_type": "code",
   "execution_count": null,
   "id": "54a8d953",
   "metadata": {},
   "outputs": [],
   "source": []
  }
 ],
 "metadata": {
  "kernelspec": {
   "display_name": "Python 3 (ipykernel)",
   "language": "python",
   "name": "python3"
  },
  "language_info": {
   "codemirror_mode": {
    "name": "ipython",
    "version": 3
   },
   "file_extension": ".py",
   "mimetype": "text/x-python",
   "name": "python",
   "nbconvert_exporter": "python",
   "pygments_lexer": "ipython3",
   "version": "3.7.10"
  }
 },
 "nbformat": 4,
 "nbformat_minor": 5
}
